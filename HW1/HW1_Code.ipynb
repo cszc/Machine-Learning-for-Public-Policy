{
 "cells": [
  {
   "cell_type": "code",
   "execution_count": 194,
   "metadata": {
    "collapsed": false
   },
   "outputs": [],
   "source": [
    "import pandas as pd\n",
    "import matplotlib.pyplot as plt\n",
    "import matplotlib as mpl\n",
    "mpl.style.use('ggplot')\n",
    "%matplotlib inline\n",
    "import json\n",
    "import requests\n",
    "import numpy"
   ]
  },
  {
   "cell_type": "code",
   "execution_count": 127,
   "metadata": {
    "collapsed": false
   },
   "outputs": [],
   "source": [
    "raw_df = pd.read_csv(\"mock_student_data.csv\")"
   ]
  },
  {
   "cell_type": "code",
   "execution_count": 5,
   "metadata": {
    "collapsed": false
   },
   "outputs": [
    {
     "data": {
      "text/html": [
       "<div>\n",
       "<table border=\"1\" class=\"dataframe\">\n",
       "  <thead>\n",
       "    <tr style=\"text-align: right;\">\n",
       "      <th></th>\n",
       "      <th>ID</th>\n",
       "      <th>Age</th>\n",
       "      <th>GPA</th>\n",
       "      <th>Days_missed</th>\n",
       "    </tr>\n",
       "  </thead>\n",
       "  <tbody>\n",
       "    <tr>\n",
       "      <th>count</th>\n",
       "      <td>1000.000000</td>\n",
       "      <td>771.000000</td>\n",
       "      <td>779.000000</td>\n",
       "      <td>808.000000</td>\n",
       "    </tr>\n",
       "    <tr>\n",
       "      <th>mean</th>\n",
       "      <td>500.500000</td>\n",
       "      <td>16.996109</td>\n",
       "      <td>2.988447</td>\n",
       "      <td>18.011139</td>\n",
       "    </tr>\n",
       "    <tr>\n",
       "      <th>std</th>\n",
       "      <td>288.819436</td>\n",
       "      <td>1.458067</td>\n",
       "      <td>0.818249</td>\n",
       "      <td>9.629371</td>\n",
       "    </tr>\n",
       "    <tr>\n",
       "      <th>min</th>\n",
       "      <td>1.000000</td>\n",
       "      <td>15.000000</td>\n",
       "      <td>2.000000</td>\n",
       "      <td>2.000000</td>\n",
       "    </tr>\n",
       "    <tr>\n",
       "      <th>25%</th>\n",
       "      <td>250.750000</td>\n",
       "      <td>16.000000</td>\n",
       "      <td>2.000000</td>\n",
       "      <td>9.000000</td>\n",
       "    </tr>\n",
       "    <tr>\n",
       "      <th>50%</th>\n",
       "      <td>500.500000</td>\n",
       "      <td>17.000000</td>\n",
       "      <td>3.000000</td>\n",
       "      <td>18.000000</td>\n",
       "    </tr>\n",
       "    <tr>\n",
       "      <th>75%</th>\n",
       "      <td>750.250000</td>\n",
       "      <td>18.000000</td>\n",
       "      <td>4.000000</td>\n",
       "      <td>27.000000</td>\n",
       "    </tr>\n",
       "    <tr>\n",
       "      <th>max</th>\n",
       "      <td>1000.000000</td>\n",
       "      <td>19.000000</td>\n",
       "      <td>4.000000</td>\n",
       "      <td>34.000000</td>\n",
       "    </tr>\n",
       "  </tbody>\n",
       "</table>\n",
       "</div>"
      ],
      "text/plain": [
       "                ID         Age         GPA  Days_missed\n",
       "count  1000.000000  771.000000  779.000000   808.000000\n",
       "mean    500.500000   16.996109    2.988447    18.011139\n",
       "std     288.819436    1.458067    0.818249     9.629371\n",
       "min       1.000000   15.000000    2.000000     2.000000\n",
       "25%     250.750000   16.000000    2.000000     9.000000\n",
       "50%     500.500000   17.000000    3.000000    18.000000\n",
       "75%     750.250000   18.000000    4.000000    27.000000\n",
       "max    1000.000000   19.000000    4.000000    34.000000"
      ]
     },
     "execution_count": 5,
     "metadata": {},
     "output_type": "execute_result"
    }
   ],
   "source": [
    "raw_df.describe()"
   ]
  },
  {
   "cell_type": "code",
   "execution_count": 8,
   "metadata": {
    "collapsed": false
   },
   "outputs": [
    {
     "data": {
      "text/plain": [
       "ID             500.5\n",
       "Age             17.0\n",
       "GPA              3.0\n",
       "Days_missed     18.0\n",
       "dtype: float64"
      ]
     },
     "execution_count": 8,
     "metadata": {},
     "output_type": "execute_result"
    }
   ],
   "source": [
    "raw_df.median()"
   ]
  },
  {
   "cell_type": "code",
   "execution_count": 9,
   "metadata": {
    "collapsed": false
   },
   "outputs": [
    {
     "data": {
      "text/html": [
       "<div>\n",
       "<table border=\"1\" class=\"dataframe\">\n",
       "  <thead>\n",
       "    <tr style=\"text-align: right;\">\n",
       "      <th></th>\n",
       "      <th>ID</th>\n",
       "      <th>First_name</th>\n",
       "      <th>Last_name</th>\n",
       "      <th>State</th>\n",
       "      <th>Gender</th>\n",
       "      <th>Age</th>\n",
       "      <th>GPA</th>\n",
       "      <th>Days_missed</th>\n",
       "      <th>Graduated</th>\n",
       "    </tr>\n",
       "  </thead>\n",
       "  <tbody>\n",
       "    <tr>\n",
       "      <th>0</th>\n",
       "      <td>NaN</td>\n",
       "      <td>Amy</td>\n",
       "      <td>Ross</td>\n",
       "      <td>Texas</td>\n",
       "      <td>Female</td>\n",
       "      <td>15</td>\n",
       "      <td>2</td>\n",
       "      <td>6</td>\n",
       "      <td>Yes</td>\n",
       "    </tr>\n",
       "    <tr>\n",
       "      <th>1</th>\n",
       "      <td>NaN</td>\n",
       "      <td>NaN</td>\n",
       "      <td>NaN</td>\n",
       "      <td>NaN</td>\n",
       "      <td>NaN</td>\n",
       "      <td>NaN</td>\n",
       "      <td>NaN</td>\n",
       "      <td>14</td>\n",
       "      <td>NaN</td>\n",
       "    </tr>\n",
       "    <tr>\n",
       "      <th>2</th>\n",
       "      <td>NaN</td>\n",
       "      <td>NaN</td>\n",
       "      <td>NaN</td>\n",
       "      <td>NaN</td>\n",
       "      <td>NaN</td>\n",
       "      <td>NaN</td>\n",
       "      <td>NaN</td>\n",
       "      <td>31</td>\n",
       "      <td>NaN</td>\n",
       "    </tr>\n",
       "  </tbody>\n",
       "</table>\n",
       "</div>"
      ],
      "text/plain": [
       "   ID First_name Last_name  State  Gender  Age  GPA  Days_missed Graduated\n",
       "0 NaN        Amy      Ross  Texas  Female   15    2            6       Yes\n",
       "1 NaN        NaN       NaN    NaN     NaN  NaN  NaN           14       NaN\n",
       "2 NaN        NaN       NaN    NaN     NaN  NaN  NaN           31       NaN"
      ]
     },
     "execution_count": 9,
     "metadata": {},
     "output_type": "execute_result"
    }
   ],
   "source": [
    "raw_df.mode()"
   ]
  },
  {
   "cell_type": "code",
   "execution_count": 13,
   "metadata": {
    "collapsed": false
   },
   "outputs": [
    {
     "data": {
      "text/plain": [
       "ID               0\n",
       "First_name       0\n",
       "Last_name        0\n",
       "State          116\n",
       "Gender         226\n",
       "Age            229\n",
       "GPA            221\n",
       "Days_missed    192\n",
       "Graduated        0\n",
       "dtype: int64"
      ]
     },
     "execution_count": 13,
     "metadata": {},
     "output_type": "execute_result"
    }
   ],
   "source": [
    "raw_df.isnull().sum()"
   ]
  },
  {
   "cell_type": "code",
   "execution_count": 97,
   "metadata": {
    "collapsed": false
   },
   "outputs": [
    {
     "data": {
      "text/plain": [
       "[14, 20, 0, 180]"
      ]
     },
     "execution_count": 97,
     "metadata": {},
     "output_type": "execute_result"
    },
    {
     "data": {
      "image/png": "[encoded data removed]",
      "text/plain": [
       "<matplotlib.figure.Figure at 0x7fd3d6a331d0>"
      ]
     },
     "metadata": {},
     "output_type": "display_data"
    }
   ],
   "source": [
    "raw_df['Age'].hist(bins=6, align='right').axis([14, 20, 0, 180])"
   ]
  },
  {
   "cell_type": "code",
   "execution_count": 124,
   "metadata": {
    "collapsed": false
   },
   "outputs": [
    {
     "data": {
      "text/plain": [
       "<matplotlib.axes._subplots.AxesSubplot at 0x7fd3d645ae10>"
      ]
     },
     "execution_count": 124,
     "metadata": {},
     "output_type": "execute_result"
    },
    {
     "data": {
      "image/png": "[encoded data removed]",
      "text/plain": [
       "<matplotlib.figure.Figure at 0x7fd3d6455fd0>"
      ]
     },
     "metadata": {},
     "output_type": "display_data"
    }
   ],
   "source": [
    "raw_df['GPA'].hist(bins=3)"
   ]
  },
  {
   "cell_type": "code",
   "execution_count": 57,
   "metadata": {
    "collapsed": false,
    "scrolled": true
   },
   "outputs": [
    {
     "data": {
      "text/plain": [
       "<matplotlib.axes._subplots.AxesSubplot at 0x7fd3ebcb9b38>"
      ]
     },
     "execution_count": 57,
     "metadata": {},
     "output_type": "execute_result"
    },
    {
     "data": {
      "image/png": "[encoded data removed]",
      "text/plain": [
       "<matplotlib.figure.Figure at 0x7fd3ebc1de10>"
      ]
     },
     "metadata": {},
     "output_type": "display_data"
    }
   ],
   "source": [
    "raw_df['Days_missed'].hist(bins=35)"
   ]
  },
  {
   "cell_type": "code",
   "execution_count": 146,
   "metadata": {
    "collapsed": false
   },
   "outputs": [],
   "source": [
    "for i, frame in raw_df['Gender'].iteritems():\n",
    "    if pd.isnull(frame):\n",
    "        name = raw_df.xs(i)['First_name']\n",
    "        r = requests.get('https://api.genderize.io/?name=' + name)\n",
    "        gender = r.json()['gender']\n",
    "        raw_df.set_value(i, 'Gender', gender)"
   ]
  },
  {
   "cell_type": "code",
   "execution_count": 152,
   "metadata": {
    "collapsed": false
   },
   "outputs": [],
   "source": [
    "raw_df.to_csv('mock_with_gender.csv')"
   ]
  },
  {
   "cell_type": "code",
   "execution_count": 175,
   "metadata": {
    "collapsed": false
   },
   "outputs": [],
   "source": [
    "df = pd.read_csv('mock_with_gender.csv')\n",
    "mean_age = df['Age'].mean()\n",
    "mean_gpa = df['GPA'].mean()\n",
    "mean_days_missed = df['Days_missed'].mean()"
   ]
  },
  {
   "cell_type": "code",
   "execution_count": 180,
   "metadata": {
    "collapsed": false
   },
   "outputs": [],
   "source": [
    "for i, frame in df['Age'].iteritems():\n",
    "    if pd.isnull(frame):\n",
    "        df.set_value(i, 'Age', mean_age)\n",
    "\n",
    "for i, frame in df['GPA'].iteritems():\n",
    "    if pd.isnull(frame):\n",
    "        df.set_value(i, 'GPA', mean_gpa)\n",
    "\n",
    "for i, frame in df['Days_missed'].iteritems():\n",
    "    if pd.isnull(frame):\n",
    "        df.set_value(i, 'Days_missed', mean_days_missed)\n",
    "        \n",
    "df.to_csv('mock_with_means.csv')\n"
   ]
  },
  {
   "cell_type": "code",
   "execution_count": 189,
   "metadata": {
    "collapsed": false
   },
   "outputs": [
    {
     "name": "stdout",
     "output_type": "stream",
     "text": [
      "16.9588744589\n",
      "3.50537634409\n",
      "16.7755610973\n",
      "17.0517799353\n",
      "2.51597051597\n",
      "19.2285012285\n"
     ]
    }
   ],
   "source": [
    "df = pd.read_csv('mock_with_gender.csv')\n",
    "graduated = df[df['Graduated']=='Yes']\n",
    "mean_age_gr = graduated['Age'].mean()\n",
    "print(mean_age_gr)\n",
    "mean_gpa_gr = graduated['GPA'].mean()\n",
    "print(mean_gpa_gr)\n",
    "mean_dm_gr = graduated['Days_missed'].mean()\n",
    "print(mean_dm_gr)\n",
    "\n",
    "not_graduated = df[df['Graduated']=='No']\n",
    "mean_age_ngr = not_graduated['Age'].mean()\n",
    "print(mean_age_ngr)\n",
    "mean_gpa_ngr = not_graduated['GPA'].mean()\n",
    "print(mean_gpa_ngr)\n",
    "mean_dm_ngr = not_graduated['Days_missed'].mean()\n",
    "print(mean_dm_ngr)"
   ]
  },
  {
   "cell_type": "code",
   "execution_count": 191,
   "metadata": {
    "collapsed": false
   },
   "outputs": [],
   "source": [
    "for i, frame in df['Age'].iteritems():\n",
    "    if pd.isnull(frame):\n",
    "        if df.xs(i)['Graduated'] == 'Yes':\n",
    "            df.set_value(i, 'Age', mean_age_gr)\n",
    "        else:\n",
    "            df.set_value(i, 'Age', mean_age_ngr)\n",
    "\n",
    "for i, frame in df['GPA'].iteritems():\n",
    "    if pd.isnull(frame):\n",
    "        if df.xs(i)['Graduated'] == 'Yes':\n",
    "            df.set_value(i, 'GPA', mean_gpa_gr)\n",
    "        else:\n",
    "            df.set_value(i, 'GPA', mean_gpa_ngr)\n",
    "\n",
    "for i, frame in df['Days_missed'].iteritems():\n",
    "    if pd.isnull(frame):\n",
    "        if df.xs(i)['Graduated'] == 'Yes':\n",
    "            df.set_value(i, 'Days_missed', mean_dm_gr)\n",
    "        else:\n",
    "            df.set_value(i, 'Days_missed', mean_dm_ngr)"
   ]
  },
  {
   "cell_type": "code",
   "execution_count": 192,
   "metadata": {
    "collapsed": true
   },
   "outputs": [],
   "source": [
    "df.to_csv('mock_with_cond_means.csv')"
   ]
  },
  {
   "cell_type": "code",
   "execution_count": 201,
   "metadata": {
    "collapsed": false
   },
   "outputs": [
    {
     "name": "stdout",
     "output_type": "stream",
     "text": [
      "graduated - female\n",
      "16.967611336\n",
      "3.5412371134\n",
      "17.79342723\n",
      "graduated - male\n",
      "16.9488372093\n",
      "3.46629213483\n",
      "15.6223404255\n",
      "not_graduated - female\n",
      "16.9677419355\n",
      "2.51442307692\n",
      "19.2980769231\n",
      "not_graduated - male\n",
      "17.1363636364\n",
      "2.5175879397\n",
      "19.1557788945\n"
     ]
    }
   ],
   "source": [
    "graduated_female = graduated[graduated['Gender']=='Female']\n",
    "graduated_male = graduated[graduated['Gender']=='Male']\n",
    "print('graduated - female')\n",
    "mean_fage_gr = graduated_female['Age'].mean()\n",
    "print(mean_fage_gr)\n",
    "mean_fgpa_gr = graduated_female['GPA'].mean()\n",
    "print(mean_fgpa_gr)\n",
    "mean_fdm_gr = graduated_female['Days_missed'].mean()\n",
    "print(mean_fdm_gr)\n",
    "\n",
    "print('graduated - male')\n",
    "mean_mage_gr = graduated_male['Age'].mean()\n",
    "print(mean_mage_gr)\n",
    "mean_mgpa_gr = graduated_male['GPA'].mean()\n",
    "print(mean_mgpa_gr)\n",
    "mean_mdm_gr = graduated_male['Days_missed'].mean()\n",
    "print(mean_mdm_gr)\n",
    "\n",
    "ngraduated_female = not_graduated[not_graduated['Gender']=='Female']\n",
    "ngraduated_male = not_graduated[not_graduated['Gender']=='Male']\n",
    "print('not_graduated - female')\n",
    "mean_fage_ngr = ngraduated_female['Age'].mean()\n",
    "print(mean_fage_ngr)\n",
    "mean_fgpa_ngr = ngraduated_female['GPA'].mean()\n",
    "print(mean_fgpa_ngr)\n",
    "mean_fdm_ngr = ngraduated_female['Days_missed'].mean()\n",
    "print(mean_fdm_ngr)\n",
    "\n",
    "print('not_graduated - male')\n",
    "mean_mage_ngr = ngraduated_male['Age'].mean()\n",
    "print(mean_mage_ngr)\n",
    "mean_mgpa_ngr = ngraduated_male['GPA'].mean()\n",
    "print(mean_mgpa_ngr)\n",
    "mean_mdm_ngr = ngraduated_male['Days_missed'].mean()\n",
    "print(mean_mdm_ngr)\n"
   ]
  },
  {
   "cell_type": "code",
   "execution_count": 204,
   "metadata": {
    "collapsed": true
   },
   "outputs": [],
   "source": [
    "df = pd.read_csv('mock_with_gender.csv')\n",
    "\n",
    "for i, frame in df['Age'].iteritems():\n",
    "    if pd.isnull(frame):\n",
    "        if df.xs(i)['Graduated'] == 'Yes':\n",
    "            if df.xs(i)['Gender'] == 'Female':\n",
    "                df.set_value(i, 'Age', mean_fage_gr)\n",
    "            else:\n",
    "                df.set_value(i, 'Age', mean_mage_gr)\n",
    "        else:\n",
    "            if df.xs(i)['Gender'] == 'Female':\n",
    "                df.set_value(i, 'Age', mean_fage_ngr)\n",
    "            else:\n",
    "                df.set_value(i, 'Age', mean_mage_ngr)\n",
    "\n",
    "for i, frame in df['GPA'].iteritems():\n",
    "    if pd.isnull(frame):\n",
    "        if df.xs(i)['Graduated'] == 'Yes':\n",
    "            if df.xs(i)['Gender'] == 'Female':\n",
    "                df.set_value(i, 'GPA', mean_fgpa_gr)\n",
    "            else:\n",
    "                df.set_value(i, 'GPA', mean_mgpa_gr)\n",
    "        else:\n",
    "            if df.xs(i)['Gender'] == 'Female':\n",
    "                df.set_value(i, 'GPA', mean_fgpa_ngr)\n",
    "            else:\n",
    "                df.set_value(i, 'GPA', mean_mgpa_ngr)\n",
    "\n",
    "for i, frame in df['Days_missed'].iteritems():\n",
    "    if pd.isnull(frame):\n",
    "        if df.xs(i)['Graduated'] == 'Yes':\n",
    "            if df.xs(i)['Gender'] == 'Female':\n",
    "                df.set_value(i, 'Days_missed', mean_fdm_gr)\n",
    "            else:\n",
    "                df.set_value(i, 'Days_missed', mean_mdm_gr)\n",
    "        else:\n",
    "            if df.xs(i)['Gender'] == 'Female':\n",
    "                df.set_value(i, 'Days_missed', mean_fdm_ngr)\n",
    "            else:\n",
    "                df.set_value(i, 'Days_missed', mean_mdm_ngr)\n",
    "            \n",
    "df.to_csv('mock_partc.csv')"
   ]
  },
  {
   "cell_type": "code",
   "execution_count": null,
   "metadata": {
    "collapsed": true
   },
   "outputs": [],
   "source": []
  }
 ],
 "metadata": {
  "kernelspec": {
   "display_name": "Python 3",
   "language": "python",
   "name": "python3"
  },
  "language_info": {
   "codemirror_mode": {
    "name": "ipython",
    "version": 3
   },
   "file_extension": ".py",
   "mimetype": "text/x-python",
   "name": "python",
   "nbconvert_exporter": "python",
   "pygments_lexer": "ipython3",
   "version": "3.5.1"
  }
 },
 "nbformat": 4,
 "nbformat_minor": 0
}
